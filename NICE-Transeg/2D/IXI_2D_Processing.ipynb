{
  "nbformat": 4,
  "nbformat_minor": 0,
  "metadata": {
    "colab": {
      "provenance": []
    },
    "kernelspec": {
      "name": "python3",
      "display_name": "Python 3"
    },
    "language_info": {
      "name": "python"
    }
  },
  "cells": [
    {
      "cell_type": "code",
      "execution_count": 46,
      "metadata": {
        "colab": {
          "base_uri": "https://localhost:8080/"
        },
        "id": "MQhy3vWMbfKP",
        "outputId": "f5901074-363b-462f-c6a0-439447b62159"
      },
      "outputs": [
        {
          "output_type": "stream",
          "name": "stdout",
          "text": [
            "Drive already mounted at /content/drive/; to attempt to forcibly remount, call drive.mount(\"/content/drive/\", force_remount=True).\n"
          ]
        }
      ],
      "source": [
        "from google.colab import drive\n",
        "drive.mount('/content/drive/')"
      ]
    },
    {
      "cell_type": "code",
      "source": [
        "# Original 3D IXI data from Transmorph repo\n",
        "# This notebook converted it to a 2D dataset"
      ],
      "metadata": {
        "id": "jKyo4zHaefjJ"
      },
      "execution_count": null,
      "outputs": []
    },
    {
      "cell_type": "code",
      "source": [
        "import os, sys\n",
        "import numpy as np\n",
        "import scipy.ndimage\n",
        "import torch\n",
        "# from torchvision import transforms\n",
        "from torch.utils.data import Dataset\n",
        "from glob import glob\n",
        "from os import path\n",
        "import random\n",
        "\n",
        "class NICE_Transeg_Dataset_Infer(Dataset):\n",
        "    def __init__(self, data_path, device, transform=torch.from_numpy):\n",
        "        self.transform = transform\n",
        "        self.device = device\n",
        "        self.images = []\n",
        "        self.labels = []\n",
        "        files = glob(path.join(data_path, \"*.pkl\"))\n",
        "        self.files = files\n",
        "        print(f\"{data_path.split('/')[-1]} file num: {len(files)}\")\n",
        "\n",
        "    def __len__(self):\n",
        "        return len(self.files)\n",
        "\n",
        "    def __getitem__(self, idx):\n",
        "        image, label = np.load(self.files[idx], allow_pickle=True)\n",
        "        return self.transform(image).unsqueeze(0).to(self.device), self.transform(label).float().unsqueeze(0).to(self.device), self.files[idx]\n",
        "        # return torch.reshape(self.transform(image)[:,:,:144], (144, 192, 160)).unsqueeze(0).to(self.device), self.transform(label).unsqueeze(0).to(self.device)\n",
        "\n",
        "def print_gpu_usage(note=\"\"):\n",
        "    print(f\"{note}: %fGB\"%(torch.cuda.memory_allocated(0)/1024/1024/1024), flush=True)"
      ],
      "metadata": {
        "id": "QbjDC72lUKyC"
      },
      "execution_count": 35,
      "outputs": []
    },
    {
      "cell_type": "code",
      "source": [
        "\n",
        "from torch.utils.data import DataLoader\n",
        "import torch.nn as nn\n",
        "\n",
        "train_dir = '/content/drive/MyDrive/IXI/Train'\n",
        "atlas_dir = '/content/drive/MyDrive/IXI/Atlas'\n",
        "test_dir = '/content/drive/MyDrive/IXI/Test'\n",
        "val_dir = '/content/drive/MyDrive/IXI/Val'\n",
        "device = 'cpu'\n",
        "batch_size = 1\n",
        "\n",
        "# test_dl = DataLoader(NICE_Transeg_Dataset_Infer(test_dir, device), batch_size=1, shuffle=False, drop_last=False)\n",
        "# val_dl = DataLoader(NICE_Transeg_Dataset_Infer(val_dir, device), batch_size=1, shuffle=False, drop_last=False)\n",
        "# train_dl = DataLoader(NICE_Transeg_Dataset_Infer(train_dir, device), batch_size=1, shuffle=False, drop_last=False)\n",
        "atlas_dl = DataLoader(NICE_Transeg_Dataset_Infer(atlas_dir, device), batch_size=1, shuffle=False, drop_last=False)"
      ],
      "metadata": {
        "colab": {
          "base_uri": "https://localhost:8080/"
        },
        "id": "vHr9rLysUwJL",
        "outputId": "b1048e27-1698-4bb0-e4f8-8660558ba8d4"
      },
      "execution_count": 68,
      "outputs": [
        {
          "output_type": "stream",
          "name": "stdout",
          "text": [
            "Atlas file num: 5\n"
          ]
        }
      ]
    },
    {
      "cell_type": "code",
      "source": [
        "x = np.load('/content/drive/MyDrive/NICE_Transeg/IXI2D/Train/data/0.npy')\n",
        "print(x.shape)"
      ],
      "metadata": {
        "colab": {
          "base_uri": "https://localhost:8080/"
        },
        "id": "ojn6qX8XaiWf",
        "outputId": "68531100-0e60-4f25-81d8-36e640d2d71e"
      },
      "execution_count": 47,
      "outputs": [
        {
          "output_type": "stream",
          "name": "stdout",
          "text": [
            "(160, 224, 1)\n"
          ]
        }
      ]
    },
    {
      "cell_type": "code",
      "source": [
        "%matplotlib inline\n",
        "from matplotlib import pyplot as plt\n",
        "\n",
        "id = 0\n",
        "\n",
        "#train\n",
        "for image, label, file_name in atlas_dl:\n",
        "  image = image.squeeze()[:,100,:].unsqueeze(-1).numpy()\n",
        "  label = label.squeeze()[:,100,:].unsqueeze(-1).numpy()\n",
        "\n",
        "  np.save(path.join('/content/drive/MyDrive/NICE_Transeg/IXI2D/Atlas/data/', f'{id}.npy'), image)\n",
        "  np.save(path.join('/content/drive/MyDrive/NICE_Transeg/IXI2D/Atlas/label/', f'{id}.npy'), label)\n",
        "  id += 1\n",
        "\n",
        "  # plt.imshow(image, interpolation='nearest')\n",
        "  # plt.show()\n",
        "  # plt.imshow(label, interpolation=)\n",
        "  # plt.show()\n",
        ""
      ],
      "metadata": {
        "id": "6ALHX7GjV1ka"
      },
      "execution_count": 69,
      "outputs": []
    },
    {
      "cell_type": "code",
      "source": [
        "# !tar -zcvf IXI2D.tar.gz /content/drive/MyDrive/NICE_Transeg/IXI2D\n",
        "!mv /content/IXI2D.tar.gz /content/drive/MyDrive/NICE_Transeg/IXI2D.tar.gz"
      ],
      "metadata": {
        "id": "BbLa4gmneRmY"
      },
      "execution_count": 72,
      "outputs": []
    }
  ]
}